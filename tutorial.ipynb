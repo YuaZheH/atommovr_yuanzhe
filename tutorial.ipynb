{
 "cells": [
  {
   "cell_type": "markdown",
   "metadata": {},
   "source": [
    "# *atommovr* tutorial: the basics\n",
    "\n",
    "this notebook walks users through the basic functionality of the `atommovr` simulation framework.\n",
    "\n",
    "the `atommovr` framework contains two main arms: `.utils` (imported as 'movr') and `.algorithms` (imported as 'algos'):\n",
    "- 'movr' contains:\n",
    "  - under-the-hood code\n",
    "    - objects for keeping track of moves and the state of our atom array\n",
    "  - various utility functions\n",
    "  - animation code generating snapshots of the array and gifs\n",
    "- 'algos' contains:\n",
    "  - implementations of algorithms in the literature\n",
    "    - single-species\n",
    "      - hungarian\n",
    "      - parallel hungarian (developed in this work)\n",
    "      - balance and compact (Vala 2004, reimplemented for tweezers in this work)\n",
    "    - dual-species\n",
    "      - inside out (developed in this work)\n",
    "      - parallel hungarian (developed in this work)\n",
    "  - functions to extract numerical lower bounds for rearrangement"
   ]
  },
  {
   "cell_type": "code",
   "execution_count": null,
   "metadata": {},
   "outputs": [],
   "source": [
    "import numpy as np\n",
    "import matplotlib.pyplot as plt\n",
    "\n",
    "import atommover\n",
    "import atommover.utils as movr\n",
    "import atommover.algorithms as algos\n",
    "\n",
    "# NB: the first time you run this box, it may take a little while."
   ]
  },
  {
   "cell_type": "markdown",
   "metadata": {},
   "source": [
    "### Basic Functionality"
   ]
  },
  {
   "cell_type": "markdown",
   "metadata": {},
   "source": [
    "In *atommovr*, a tweezer array is represented by an instance of the class `AtomArray`.\n",
    "\n",
    "We can always look at the state of the array by calling the `.image()` function on an instance of the class."
   ]
  },
  {
   "cell_type": "code",
   "execution_count": null,
   "metadata": {},
   "outputs": [],
   "source": [
    "array = movr.AtomArray([20,20], n_species=1)\n",
    "array.image()"
   ]
  },
  {
   "cell_type": "markdown",
   "metadata": {},
   "source": [
    "Of course, we haven't filled it yet, so there's nothing there. Let's add some atoms! \n",
    "\n",
    "We can simulate the process of stochastic loading through calling the `.load_tweezers()` function, and see what we get with `.image()` again."
   ]
  },
  {
   "cell_type": "code",
   "execution_count": null,
   "metadata": {},
   "outputs": [],
   "source": [
    "array.load_tweezers()\n",
    "array.image()"
   ]
  },
  {
   "cell_type": "markdown",
   "metadata": {},
   "source": [
    "That's better! Now that we have atoms, we can rearrange them into some target configuration. But first, let's figure out how to do a simple move. \n",
    "\n",
    "In `atommovr`, moves are represented by `Move` classes, which take four arguments: the row and column indices of the atom you want to move, and the row and column indices of the site you want to move it to. To keep benchmarking and error modelling simple and intuitive, we only move an atom over by a single row and/or column in a single move, and break longer moves up into a series of `Move` objects.\n",
    "\n",
    "To apply a move to the array, we can call the `.move_atoms(move_list)` function, and it will apply the moves to the atom.\n",
    "\n",
    "To see a visualization of our move, we can call `.image(move_list)`."
   ]
  },
  {
   "cell_type": "code",
   "execution_count": null,
   "metadata": {},
   "outputs": [],
   "source": [
    "atom_row, atom_col = 4, 3     # fill these in yourself! #\n",
    "target_row, target_col = 4, 4\n",
    "\n",
    "move = movr.Move(atom_row, atom_col, target_row, target_col)\n",
    "\n",
    "move_list = [move]\n",
    "\n",
    "array.move_atoms(move_list)\n",
    "\n",
    "array.image(move_list)\n"
   ]
  },
  {
   "cell_type": "markdown",
   "metadata": {},
   "source": [
    "Great! Now, let's say we want to be efficient and move multiple atoms simultaneously. We can simply do this by calling two instances of `Move` objects and adding both to our `move_list`."
   ]
  },
  {
   "cell_type": "code",
   "execution_count": null,
   "metadata": {},
   "outputs": [],
   "source": [
    "atom_row, atom_col = 7, 5 # fill these in yourself!\n",
    "target_row, target_col = 8, 5\n",
    "\n",
    "move1 = movr.Move(atom_row, atom_col, target_row, target_col)\n",
    "\n",
    "atom_row2, atom_col2 = 7, 6 # fill these in yourself!\n",
    "target_row2, target_col2 = 8, 6\n",
    "\n",
    "move2 = movr.Move(atom_row2, atom_col2, target_row2, target_col2)\n",
    "\n",
    "move_list = [move1, move2]\n",
    "\n",
    "array.move_atoms(move_list)\n",
    "\n",
    "array.image(move_list)"
   ]
  },
  {
   "cell_type": "markdown",
   "metadata": {},
   "source": [
    "Great! However, it was already a lot of work to move that one atom, and we don't want to be stuck doing this manually every time.\n",
    "\n",
    "Instead, what we can do is call one of the built-in rearrangement algorithms. Each algorithm is also represented by its own class, like `Hungarian`.\n",
    "\n",
    "To tell it what to prepare, we first have to call our array's `.generate_target()` function (which by default, generates a nice checkerboard pattern). There are prebuilt target configurations to generate in the `Configurations` class in `atommover.utils`, or you can specify your own manually by setting the `.target` variable of your array.\n",
    "\n",
    "Now that we have a target configuration in mind, we can have the algorithm compute a list of moves to prepare it by calling its `.get_moves()` function, and passing our array as an argument. "
   ]
  },
  {
   "cell_type": "code",
   "execution_count": null,
   "metadata": {},
   "outputs": [],
   "source": [
    "algo = algos.Hungarian()\n",
    "array.generate_target(movr.Configurations.MIDDLE_FILL, occupation_prob = 0.6)\n",
    "final_config, move_set, success_flag = algo.get_moves(array)\n",
    "print(move_set)"
   ]
  },
  {
   "cell_type": "markdown",
   "metadata": {},
   "source": [
    "Nice! Now, we have prepared our checkerboard pattern, but we notice that there might be some excess atoms on the grid. \n",
    "\n",
    "To get rid of these, we can call the algorithm's `.get_moves()` function with the kwarg `do_ejection = True`.\n",
    "\n",
    "This adds an ejection subroutine where excess atoms are removed after all the target sites are filled. You can run it on other algorithms too, or easily add it to your own."
   ]
  },
  {
   "cell_type": "code",
   "execution_count": null,
   "metadata": {},
   "outputs": [],
   "source": [
    "array.matrix = array.last_loaded_config # resetting the state of the array to the initial loading state\n",
    "final_config, move_set, success_flag = algo.get_moves(array, do_ejection = True)\n",
    "\n",
    "move_time, _ = array.evaluate_moves(move_set)\n",
    "\n",
    "array.image()"
   ]
  },
  {
   "cell_type": "markdown",
   "metadata": {},
   "source": [
    " tyhuijoAs an alternative to calling `.evaluate_moves()`, we can visualize the whole process in a gif/movie, with the `make_single_species_gif()` function from `atommover.utils`.\n",
    "\n",
    "Look in your `\\figs` folder to see the gif!"
   ]
  },
  {
   "cell_type": "code",
   "execution_count": null,
   "metadata": {},
   "outputs": [],
   "source": [
    "array.matrix = array.last_loaded_config # resetting the state of the array to the initial loading state\n",
    "\n",
    "move_time = movr.make_single_species_gif(array, move_set, savename='first_gif')"
   ]
  },
  {
   "cell_type": "markdown",
   "metadata": {},
   "source": [
    "Two notes: \n",
    "\n",
    "- 'ejection moves' (where an atom is moved off of the grid) are marked by green dots instead of arrows.\n",
    "- although we rearranged the atoms successfully, the Hungarian algorithm is slow because it only moves one atom at a time. Other algorithms, like `algos.BCv2()`, move atoms in parallel, which enables faster assembly, at the cost of more tweezer moves.\n",
    "\n",
    "  - For more insight into the tradeoff between these algorithms, see Fig. 4 in the paper.\n",
    "  - Curious about making your own algorithm? See the next section and `algos.Algorithm.py`."
   ]
  },
  {
   "cell_type": "markdown",
   "metadata": {},
   "source": [
    "### Basic Algorithm Implementation: finding the optimal 1D rearrangement algorithm\n",
    "\n",
    "Now that we've warmed up a bit, let's level up: now, we'll find an optimal solution for the rearrangement problem in 1D together.\n",
    "\n",
    "To figure this problem out, we'll first start small with a chain of 9 atoms. Suppose we are given the following initial and target configurations:"
   ]
  },
  {
   "cell_type": "code",
   "execution_count": null,
   "metadata": {},
   "outputs": [],
   "source": [
    "import numpy as np\n",
    "\n",
    "n_atoms = 9\n",
    "array = movr.AtomArray([1,n_atoms])\n",
    "array.target = np.array([0,0,1,0,1,0,1,0,0]).reshape([1,n_atoms,1]) # given target configuration\n",
    "array.matrix = np.array([0,1,0,0,0,0,1,1,0]).reshape(np.shape(array.target)) # given initial configuration\n",
    "\n",
    "print('Given Target Configuration:')\n",
    "array.plot_target_config()\n",
    "\n",
    "print('Given Initial Configuration:')\n",
    "array.image()"
   ]
  },
  {
   "cell_type": "markdown",
   "metadata": {},
   "source": [
    "In the special case where we have exactly the same number of atoms as target sites, the optimal algorithm is very simple: \n",
    "\n",
    "- Starting from the left (right) side, we can pair the leftmost (rightmost) atom with the leftmost (rightmost) target site, and move it one space in that direction. \n",
    "- We can then iterate through all the atoms and do the same thing.\n",
    "\n",
    "And the best thing about 1d is: we can do multiple moves simultaneously!"
   ]
  },
  {
   "cell_type": "code",
   "execution_count": null,
   "metadata": {},
   "outputs": [],
   "source": [
    "import copy\n",
    "\n",
    "def special_case_algo_1d(init_config: np.ndarray, target_config: np.ndarray):\n",
    "    arr_copy = movr.AtomArray(np.shape(init_config)[:2])\n",
    "    arr_copy.target = copy.deepcopy(target_config)\n",
    "    arr_copy.matrix = copy.deepcopy(init_config)\n",
    "    \n",
    "    # first, find the column indices of the target sites\n",
    "    # and those of the sites with atoms\n",
    "    target_indices = np.where(arr_copy.target == 1)[1]\n",
    "    atom_indices = np.where(arr_copy.matrix == 1)[1]\n",
    "    \n",
    "    if len(target_indices) != len(atom_indices):\n",
    "        raise Exception(f\"Number of atoms ({len(atom_indices)}) does not equal number of target sites ({len(target_indices)}).\")\n",
    "\n",
    "    # second, we can pair the atoms and make a list\n",
    "    pairs = []\n",
    "    for ind, target_index in enumerate(target_indices):\n",
    "        atom_index = atom_indices[ind]\n",
    "        pair = (target_index, atom_index)\n",
    "        pairs.append(pair)\n",
    "    # lastly, we can move atoms towards their target positions\n",
    "    target_prepared = np.array_equal(arr_copy.target, arr_copy.matrix)\n",
    "    move_set = []\n",
    "    while not target_prepared:\n",
    "        move_list = []\n",
    "        for i, pair in enumerate(pairs):\n",
    "            target_index, atom_index = pair\n",
    "            if target_index != atom_index:\n",
    "                new_atom_index = int(atom_index+np.sign(target_index-atom_index))\n",
    "                move = movr.Move(0, atom_index, 0, new_atom_index)\n",
    "                move_list.append(move)\n",
    "                pairs[i] = (target_index, new_atom_index)\n",
    "        if move_list != []:\n",
    "            _, _ = arr_copy.evaluate_moves([move_list])\n",
    "            move_set.append(move_list)\n",
    "        else:\n",
    "            break\n",
    "        # target_prepared = np.array_equal(arr_copy.target, arr_copy.matrix)\n",
    "    \n",
    "    return move_set, atom_indices\n",
    "\n",
    "move_set, atom_indices = special_case_algo_1d(array.matrix, array.target)\n",
    "move_time = movr.make_single_species_gif(array, move_set, savename='first_algo')"
   ]
  },
  {
   "cell_type": "markdown",
   "metadata": {},
   "source": [
    "Success!\n",
    "\n",
    "We'll find that in the general case (where $n_{\\text{atoms}} > n_{\\text{targets}}$), the problem of finding the optimal pairing between atoms and target sites is a little more difficult. \n",
    "\n",
    "To make this a little easier on ourselves and build some intuition, let's consider the simplest case of a fully-filled target configuration:"
   ]
  },
  {
   "cell_type": "code",
   "execution_count": null,
   "metadata": {},
   "outputs": [],
   "source": [
    "array.matrix = np.array([0,1,0,1,0,0,1,0,1]).reshape(np.shape(array.target))\n",
    "n_targets = 3\n",
    "array.generate_target(movr.Configurations.MIDDLE_FILL, middle_size=[1,n_targets])\n",
    "\n",
    "print('Target Configuration:')\n",
    "array.plot_target_config()\n",
    "\n",
    "print('Initial Loading Configuration:')\n",
    "array.image()"
   ]
  },
  {
   "cell_type": "markdown",
   "metadata": {},
   "source": [
    "We can think of decomposing this 4-atom, 3-target problem into a 3-atom, 3-target problem (which we know how to solve above). \n",
    "\n",
    "But that raises the important question: which atom (of the 4) do we choose to ignore? It is clear that we should keep the innermost two atoms, as they are closest to the target sites in question. That leaves the two outermost atoms:"
   ]
  },
  {
   "cell_type": "code",
   "execution_count": null,
   "metadata": {},
   "outputs": [],
   "source": [
    "# ignoring the leftmost atom\n",
    "array.matrix[0,1,0] = 0\n",
    "move_set, _ = special_case_algo_1d(array.matrix, array.target)\n",
    "array.matrix[0,1,0] = 1\n",
    "print(f'Number of moves (ignoring leftmost atom): {len(move_set)}')\n",
    "\n",
    "# ignoring the rightmost atom\n",
    "array.matrix[0,-1,0] = 0\n",
    "move_set1, _ = special_case_algo_1d(array.matrix, array.target)\n",
    "array.matrix[0,-1,0] = 1\n",
    "print(f'Number of moves (ignoring rightmost atom): {len(move_set1)}')"
   ]
  },
  {
   "cell_type": "markdown",
   "metadata": {},
   "source": [
    "We see that ignoring the rightmost atom is the optimal choice in this situation.\n",
    "\n",
    "A very pragmatic strategy, then, would be to select the centermost set of atoms $C$, and calculate the farthest distance that an atom in set $C$ would have to move to make the target configuration. Then, we could look at the sets to the left and right of these ($L$ and $R$), and if the farthest distance is shorter than in $C$, we iterate this procedure until we find the set with the lowest number of atoms."
   ]
  },
  {
   "cell_type": "code",
   "execution_count": null,
   "metadata": {},
   "outputs": [],
   "source": [
    "# utility function that calculates the longest move distance between target sites and atom sites\n",
    "def find_largest_dist_to_move(target_inds, atom_inds):\n",
    "    if len(target_inds) > len(atom_inds):\n",
    "        return np.inf\n",
    "    max_dist = 0\n",
    "    for ind, target_loc in enumerate(target_inds):\n",
    "        atom_loc = atom_inds[ind]\n",
    "        distance = np.abs(target_loc-atom_loc)\n",
    "        if distance > max_dist:\n",
    "            max_dist = distance\n",
    "    return max_dist\n",
    "\n",
    "def middle_fill_algo_1d(init_config: np.ndarray, target_config: np.ndarray):\n",
    "    arr_copy = movr.AtomArray(np.shape(init_config)[:2])\n",
    "    arr_copy.target = copy.deepcopy(target_config)\n",
    "    arr_copy.matrix = copy.deepcopy(init_config)\n",
    "    # first, find the column indices of the target sites\n",
    "    # and those of the sites with atoms\n",
    "    target_indices = np.where(arr_copy.target == 1)[1]\n",
    "    atom_indices = np.where(arr_copy.matrix == 1)[1]\n",
    "    n_targets = len(target_indices)\n",
    "\n",
    "    # second, find the optimal pairing of atoms if \n",
    "    if n_targets == len(atom_indices):\n",
    "        return special_case_algo_1d(init_config, target_config)\n",
    "    elif n_targets > len(atom_indices):\n",
    "        return [], []\n",
    "    \n",
    "    # third, find the centermost set of atoms\n",
    "    avg_targ_pos = int(np.ceil(np.mean(target_indices)))\n",
    "    count = 0\n",
    "    sufficient_atoms = False\n",
    "    while not sufficient_atoms:\n",
    "        center_region = arr_copy.matrix[0,avg_targ_pos-count:avg_targ_pos+count+1]\n",
    "        n_atoms_in_center_region = np.sum(center_region)\n",
    "        sufficient_atoms = n_targets <= n_atoms_in_center_region\n",
    "        if not sufficient_atoms:\n",
    "            count+=1\n",
    "        else:\n",
    "            break\n",
    "    first_atom_loc = np.where(center_region == 1)[0][0]+avg_targ_pos-count\n",
    "\n",
    "    # fourth, look to the adjacent sets and see if these are better\n",
    "    look_right = True\n",
    "    right_count = 0\n",
    "    while look_right:\n",
    "        list_ind = np.where(atom_indices==first_atom_loc)[0][0]\n",
    "        current_r_atom_set = atom_indices[list_ind+right_count:list_ind+right_count+n_targets]\n",
    "        right_atom_set = atom_indices[list_ind+right_count+1:list_ind+right_count+n_targets+1]\n",
    "        dist_r_current = find_largest_dist_to_move(target_indices, current_r_atom_set)\n",
    "        dist_right = find_largest_dist_to_move(target_indices, right_atom_set)\n",
    "        if dist_right > dist_r_current:\n",
    "            look_right = False\n",
    "        else:\n",
    "            right_count += 1\n",
    "    \n",
    "    look_left = True\n",
    "    left_count = 0\n",
    "    while look_left:\n",
    "        list_ind = np.where(atom_indices==first_atom_loc)[0][0]\n",
    "        current_l_atom_set = atom_indices[list_ind-left_count:list_ind-left_count+n_targets]\n",
    "        left_atom_set = atom_indices[list_ind-left_count-1:list_ind-left_count+n_targets-1]\n",
    "        dist_l_current = find_largest_dist_to_move(target_indices, current_l_atom_set)\n",
    "        dist_left = find_largest_dist_to_move(target_indices, left_atom_set)\n",
    "        if dist_left > dist_l_current:\n",
    "            look_left = False\n",
    "        else:\n",
    "            left_count += 1\n",
    "    \n",
    "    if dist_l_current < dist_r_current:\n",
    "        best_atom_set = current_l_atom_set\n",
    "    else:\n",
    "        best_atom_set = current_r_atom_set\n",
    "    \n",
    "    # fifth, find the best set and assign pairs\n",
    "    pairs = []\n",
    "    for ind, target_index in enumerate(target_indices):\n",
    "        atom_index = best_atom_set[ind]\n",
    "        pair = (target_index, atom_index)\n",
    "        pairs.append(pair)\n",
    "\n",
    "    # lastly, we can move atoms towards their target positions\n",
    "    target_prepared = np.array_equal(arr_copy.target, arr_copy.matrix)\n",
    "    move_set = []\n",
    "    while not target_prepared:\n",
    "        move_list = []\n",
    "        for i, pair in enumerate(pairs):\n",
    "            target_index, atom_index = pair\n",
    "            if target_index != atom_index:\n",
    "                new_atom_index = int(atom_index+np.sign(target_index-atom_index))\n",
    "                move = movr.Move(0, atom_index, 0, new_atom_index)\n",
    "                move_list.append(move)\n",
    "                pairs[i] = (target_index, new_atom_index)\n",
    "        if move_list != []:\n",
    "            _, _ = arr_copy.evaluate_moves([move_list])\n",
    "            move_set.append(move_list)\n",
    "        else:\n",
    "            target_prepared = True\n",
    "    \n",
    "    return move_set, best_atom_set"
   ]
  },
  {
   "cell_type": "code",
   "execution_count": null,
   "metadata": {},
   "outputs": [],
   "source": [
    "array = movr.AtomArray([1,21], params=movr.PhysicalParams(loading_prob=0.5))\n",
    "\n",
    "print('Target Configuration:')\n",
    "array.generate_target(movr.Configurations.MIDDLE_FILL, middle_size = [1,9])\n",
    "print('Initial Configuration:')\n",
    "array.load_tweezers()\n",
    "array.plot_target_config()\n",
    "if np.sum(array.matrix) > np.sum(array.target):\n",
    "    array.image()\n",
    "    move_set, _ = middle_fill_algo_1d(array.matrix, array.target)\n",
    "    _, _ = array.evaluate_moves(move_set)\n",
    "    print('Final Configuration:')\n",
    "    array.image(move_set[-1])"
   ]
  },
  {
   "cell_type": "markdown",
   "metadata": {},
   "source": [
    "### Basic analysis implementation: using `ErrorModel` and `Benchmarking`\n",
    "\n",
    "`atommovr` contains different objects for simulating and comparing the performance of different algorithms in experimental settings. Two of these objects are the `Benchmarking` class and the `ErrorModel` class (and its various child classes). \n",
    "\n",
    "We'll look at these separately below:\n",
    "\n",
    "1. `ErrorModel` and child classes\n",
    "\n",
    "    In `atommovr`, error models are objects that simulate specific loss processes, with parameters that can be set by the user. To apply an error model, you can pass it as an argument when you make an `AtomArray` object, or you can assign it later by setting the `AtomArray.error_model` class attribute.\n",
    "\n",
    "    Here's an example of assigning the simplest error model, `ZeroNoise`. As the name suggests, this error model simulates perfect rearrangement, where all moves succeed with 100% probability and there are no additional loss mechanisms. (Although you didn't know, you actually have already used this error model in the above sections - it is the default assignment for the `AtomArray.error_model` attribute)."
   ]
  },
  {
   "cell_type": "code",
   "execution_count": null,
   "metadata": {},
   "outputs": [],
   "source": [
    "# Two ways of using an error model\n",
    "noiseless_model = movr.ZeroNoise()\n",
    "arr = movr.AtomArray(error_model=noiseless_model)\n",
    "\n",
    "arr1 = movr.AtomArray()\n",
    "arr1.error_model = noiseless_model"
   ]
  },
  {
   "cell_type": "markdown",
   "metadata": {},
   "source": [
    "This is a bit boring, so let's use another error model, `UniformVacuumTweezerError`:\n",
    "\n",
    "As the name suggests, this model simulates two loss processes: atom loss from collisions with background molecules (which arise due to imperfect vacuum) and tweezer failure (to either pick up an atom, or put down an atom). If a tweezer pickup error occurs for a move, the atom remains in the trap (i.e. the move is effectively not performed). If a tweezer putdown error occurs for a move, the atom is lost from the array.\n",
    "\n",
    "It has five tunable parameters, which can be specified either when the model is called or by modifying the corresponding class attribute later:\n",
    "\n",
    "*Atom loss from background collisions*\n",
    "- `UniformVacuumTweezerError.lifetime` (s) - the lifetime of an individual atom in a trap.\n",
    "- `UniformVacuumTweezerError.pickup_time` (s) - the time it takes to transfer an atom from the static tweezer to the moving tweezer.\n",
    "- `UniformVacuumTweezerError.putdown_time` (s) - the time it takes to transfer an atom from the moving tweezer to the static tweezer.\n",
    "\n",
    "*Tweezer loss*\n",
    "- `UniformVacuumTweezerError.pickup_fail_rate` (%, in decimal form) - the percentage of moves that fail to pick up the atom.\n",
    "- `UniformVacuumTweezerError.putdown_fail_rate` (%, in decimal form) - the percentage of moves that fail to put down the atom.\n",
    "\n",
    "Let's get to it, and look at the default values for these parameters (which are chosen to roughly mimic a typical atom array experiment). You can try setting these yourself as well."
   ]
  },
  {
   "cell_type": "code",
   "execution_count": null,
   "metadata": {},
   "outputs": [],
   "source": [
    "noisy_model = movr.UniformVacuumTweezerError()\n",
    "print(f'Lifetime: {noisy_model.lifetime} s')\n",
    "print(f'Tweezer pickup time: {noisy_model.pickup_time} s')\n",
    "print(f'Tweezer putdown time: {noisy_model.putdown_time} s')\n",
    "print(f'Tweezer pickup failure rate: {noisy_model.pickup_fail_rate} ({noisy_model.pickup_fail_rate*100}%)')\n",
    "print(f'Tweezer putdown failure rate: {noisy_model.putdown_fail_rate} ({noisy_model.putdown_fail_rate*100}%)')"
   ]
  },
  {
   "cell_type": "markdown",
   "metadata": {},
   "source": [
    "Now, let's see how things are different in a noisy environment (we'll increase the putdown failure rate to 10% for illustrative purposes, but try playing around with the different parameters yourself!)"
   ]
  },
  {
   "cell_type": "code",
   "execution_count": null,
   "metadata": {},
   "outputs": [],
   "source": [
    "# modifying parameters\n",
    "noisy_model.putdown_fail_rate = 0.1 # 10%\n",
    "\n",
    "# calling array and algo objects\n",
    "array = movr.AtomArray(error_model=noisy_model)\n",
    "algo = algos.Hungarian()\n",
    "\n",
    "# preparing our target configuration and calculating the move set, as usual\n",
    "array.load_tweezers()\n",
    "array.generate_target()\n",
    "config, move_set, success_flag = algo.get_moves(array, do_ejection = True)\n",
    "\n",
    "# making a gif of noisy rearrangement\n",
    "move_time = movr.make_single_species_gif(array, move_set)"
   ]
  },
  {
   "cell_type": "markdown",
   "metadata": {},
   "source": [
    "From looking at the gif, you might see that the algorithm does not always succeed in preparing the target configuration, and that some moves fail. Move failures are marked by different colors: if an atom is not picked up, it is marked in yellow, whereas an atom that is not put down and lost is marked in magenta. \n",
    "\n",
    "(Note: you can customize these colors, and also the color of the atoms and tweezer spots, in `movr.utils.customize.py`!)\n",
    "\n",
    "2. `Benchmarking`\n",
    "   - Now that we know how to use error models, we can study the performance of an algorithm along a spectrum of noise settings. The object in `movr.Benchmarking`  is designed to make such sweeps convenient and straightforward.\n",
    "   - This object supports the comparison of multiple algorithms across sweeps of target configurations, error models, physical properties of the tweezer array (such as spacing), system sizes, and rounds of rearrangement, with support for both single- and dual-species algorithms.\n",
    "   - Let's try initializing a benchmarking object with some error models, and vary the tweezer error:"
   ]
  },
  {
   "cell_type": "code",
   "execution_count": null,
   "metadata": {},
   "outputs": [],
   "source": [
    "# setting parameters\n",
    "algorithms = [algos.Hungarian()]\n",
    "n_shots = 100\n",
    "sys_sizes = [10] # 10 x 10 array\n",
    "\n",
    "# preparing list of error models with different tweezer error probabilities\n",
    "tweezer_pickup_errors = [0.01, 0.05, 0.1, 0.15]\n",
    "error_models = []\n",
    "for pickup_error in tweezer_pickup_errors:\n",
    "    mod = movr.UniformVacuumTweezerError(pickup_fail_rate=pickup_error)\n",
    "    error_models.append(mod)\n",
    "\n",
    "# initializing benchmarking object\n",
    "bench = movr.Benchmarking(algorithms, sys_sizes = sys_sizes, error_models_list=error_models)"
   ]
  },
  {
   "cell_type": "markdown",
   "metadata": {},
   "source": [
    "Great! Now, all that's left is to run it, which we can do with the `.run()` function. We can see the results, which are stored nicely in an `xarray` dataset, by looking at the `.benchmarking_results` attribute."
   ]
  },
  {
   "cell_type": "code",
   "execution_count": null,
   "metadata": {},
   "outputs": [],
   "source": [
    "bench.run()\n",
    "bench.benchmarking_results"
   ]
  },
  {
   "cell_type": "markdown",
   "metadata": {},
   "source": [
    "The dataset shows both the metadata containing the sweep parameters (see the 'Coordinates' and 'Indexes' tabs) and useful output data (success rate, rearrangement time, filling fraction of the target sites, the number of atoms in incorrect spots, the number of atoms after rearrangement, and the number of target sites).\n",
    "\n",
    "For this dataset, we can look at the success rate as a function of the tweezer error."
   ]
  },
  {
   "cell_type": "code",
   "execution_count": null,
   "metadata": {},
   "outputs": [],
   "source": [
    "# retrieving success rates from xarray object\n",
    "success_arr = bench.benchmarking_results['success rate']\n",
    "rates = success_arr.to_numpy()[0,0,0,:,0,0]\n",
    "\n",
    "# plotting code\n",
    "plt.scatter(tweezer_pickup_errors, rates)\n",
    "plt.errorbar(tweezer_pickup_errors, rates, rates/np.sqrt(n_shots)) # shot noise errorbars\n",
    "plt.xlabel('Tweezer error')\n",
    "plt.ylabel('Success rate')"
   ]
  },
  {
   "cell_type": "markdown",
   "metadata": {},
   "source": [
    "And with that, you're officially an atom mover!\n",
    "\n",
    "If you're interested in modifying the existing error model, or making a more specific model to fit your exact experimental setting, please see `movr.utils.ErrorModel.py` for a guide."
   ]
  }
 ],
 "metadata": {
  "kernelspec": {
   "display_name": "atommover_env",
   "language": "python",
   "name": "python3"
  },
  "language_info": {
   "codemirror_mode": {
    "name": "ipython",
    "version": 3
   },
   "file_extension": ".py",
   "mimetype": "text/x-python",
   "name": "python",
   "nbconvert_exporter": "python",
   "pygments_lexer": "ipython3",
   "version": "3.13.1"
  }
 },
 "nbformat": 4,
 "nbformat_minor": 2
}
