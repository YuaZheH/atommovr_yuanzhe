{
 "cells": [
  {
   "cell_type": "code",
   "execution_count": 19,
   "id": "fc64451b",
   "metadata": {},
   "outputs": [
    {
     "name": "stdout",
     "output_type": "stream",
     "text": [
      "[WARNING] Failed to load shared library at d:\\AWG_related\\AWG_test_yuanzhe\\atommovr_yuanzhe\\PPSU2023\\libmatching_for_PPSU.so: [WinError 193] %1 is not a valid Win32 application\n",
      "[INFO] Attempting to build shared library via d:\\AWG_related\\AWG_test_yuanzhe\\atommovr_yuanzhe\\PPSU2023\\setupc.py...\n"
     ]
    },
    {
     "ename": "CalledProcessError",
     "evalue": "Command '['c:\\\\Users\\\\berni\\\\anaconda3\\\\envs\\\\AWG_yuanzhe\\\\python.exe', 'd:\\\\AWG_related\\\\AWG_test_yuanzhe\\\\atommovr_yuanzhe\\\\PPSU2023\\\\setupc.py', 'build_ext']' returned non-zero exit status 1.",
     "output_type": "error",
     "traceback": [
      "\u001b[31m---------------------------------------------------------------------------\u001b[39m",
      "\u001b[31mOSError\u001b[39m                                   Traceback (most recent call last)",
      "\u001b[36mFile \u001b[39m\u001b[32md:\\AWG_related\\AWG_test_yuanzhe\\atommovr_yuanzhe\\atommover\\algorithms\\source\\PPSU_weight_matching.py:29\u001b[39m\n\u001b[32m     28\u001b[39m \u001b[38;5;28;01mtry\u001b[39;00m:\n\u001b[32m---> \u001b[39m\u001b[32m29\u001b[39m     lib = \u001b[43mctypes\u001b[49m\u001b[43m.\u001b[49m\u001b[43mCDLL\u001b[49m\u001b[43m(\u001b[49m\u001b[43mLIB_PATH\u001b[49m\u001b[43m)\u001b[49m\n\u001b[32m     30\u001b[39m \u001b[38;5;28;01mexcept\u001b[39;00m \u001b[38;5;167;01mOSError\u001b[39;00m \u001b[38;5;28;01mas\u001b[39;00m e:\n",
      "\u001b[36mFile \u001b[39m\u001b[32mc:\\Users\\berni\\anaconda3\\envs\\AWG_yuanzhe\\Lib\\ctypes\\__init__.py:390\u001b[39m, in \u001b[36mCDLL.__init__\u001b[39m\u001b[34m(self, name, mode, handle, use_errno, use_last_error, winmode)\u001b[39m\n\u001b[32m    389\u001b[39m \u001b[38;5;28;01mif\u001b[39;00m handle \u001b[38;5;129;01mis\u001b[39;00m \u001b[38;5;28;01mNone\u001b[39;00m:\n\u001b[32m--> \u001b[39m\u001b[32m390\u001b[39m     \u001b[38;5;28mself\u001b[39m._handle = \u001b[43m_dlopen\u001b[49m\u001b[43m(\u001b[49m\u001b[38;5;28;43mself\u001b[39;49m\u001b[43m.\u001b[49m\u001b[43m_name\u001b[49m\u001b[43m,\u001b[49m\u001b[43m \u001b[49m\u001b[43mmode\u001b[49m\u001b[43m)\u001b[49m\n\u001b[32m    391\u001b[39m \u001b[38;5;28;01melse\u001b[39;00m:\n",
      "\u001b[31mOSError\u001b[39m: [WinError 193] %1 is not a valid Win32 application",
      "\nDuring handling of the above exception, another exception occurred:\n",
      "\u001b[31mCalledProcessError\u001b[39m                        Traceback (most recent call last)",
      "\u001b[36mCell\u001b[39m\u001b[36m \u001b[39m\u001b[32mIn[19]\u001b[39m\u001b[32m, line 2\u001b[39m\n\u001b[32m      1\u001b[39m \u001b[38;5;28;01mfrom\u001b[39;00m\u001b[38;5;250m \u001b[39m\u001b[34;01matommover\u001b[39;00m\u001b[34;01m.\u001b[39;00m\u001b[34;01mutils\u001b[39;00m\u001b[38;5;250m \u001b[39m\u001b[38;5;28;01mimport\u001b[39;00m *\n\u001b[32m----> \u001b[39m\u001b[32m2\u001b[39m \u001b[38;5;28;01mfrom\u001b[39;00m\u001b[38;5;250m \u001b[39m\u001b[34;01matommover\u001b[39;00m\u001b[34;01m.\u001b[39;00m\u001b[34;01malgorithms\u001b[39;00m\u001b[38;5;250m \u001b[39m\u001b[38;5;28;01mimport\u001b[39;00m Hungarian\n\u001b[32m      4\u001b[39m \u001b[38;5;66;03m# specifying parameters\u001b[39;00m\n\u001b[32m      5\u001b[39m load_prob = \u001b[32m0.5\u001b[39m \u001b[38;5;66;03m# float; the probability that an individual site will be loaded\u001b[39;00m\n",
      "\u001b[36mFile \u001b[39m\u001b[32md:\\AWG_related\\AWG_test_yuanzhe\\atommovr_yuanzhe\\atommover\\algorithms\\__init__.py:2\u001b[39m\n\u001b[32m      1\u001b[39m \u001b[38;5;28;01mfrom\u001b[39;00m\u001b[38;5;250m \u001b[39m\u001b[34;01matommover\u001b[39;00m\u001b[34;01m.\u001b[39;00m\u001b[34;01malgorithms\u001b[39;00m\u001b[34;01m.\u001b[39;00m\u001b[34;01mAlgorithm_class\u001b[39;00m\u001b[38;5;250m \u001b[39m\u001b[38;5;28;01mimport\u001b[39;00m Algorithm\n\u001b[32m----> \u001b[39m\u001b[32m2\u001b[39m \u001b[38;5;28;01mfrom\u001b[39;00m\u001b[38;5;250m \u001b[39m\u001b[34;01matommover\u001b[39;00m\u001b[34;01m.\u001b[39;00m\u001b[34;01malgorithms\u001b[39;00m\u001b[34;01m.\u001b[39;00m\u001b[34;01msingle_species\u001b[39;00m\u001b[38;5;250m \u001b[39m\u001b[38;5;28;01mimport\u001b[39;00m Hungarian, BCv2, ParallelHungarian, ParallelLBAP, GeneralizedBalance, BalanceAndCompact\n\u001b[32m      3\u001b[39m \u001b[38;5;28;01mfrom\u001b[39;00m\u001b[38;5;250m \u001b[39m\u001b[34;01matommover\u001b[39;00m\u001b[34;01m.\u001b[39;00m\u001b[34;01malgorithms\u001b[39;00m\u001b[34;01m.\u001b[39;00m\u001b[34;01mdual_species\u001b[39;00m\u001b[38;5;250m \u001b[39m\u001b[38;5;28;01mimport\u001b[39;00m InsideOut, NaiveParHung\n",
      "\u001b[36mFile \u001b[39m\u001b[32md:\\AWG_related\\AWG_test_yuanzhe\\atommovr_yuanzhe\\atommover\\algorithms\\single_species.py:16\u001b[39m\n\u001b[32m     14\u001b[39m \u001b[38;5;28;01mfrom\u001b[39;00m\u001b[38;5;250m \u001b[39m\u001b[34;01matommover\u001b[39;00m\u001b[34;01m.\u001b[39;00m\u001b[34;01malgorithms\u001b[39;00m\u001b[34;01m.\u001b[39;00m\u001b[34;01msource\u001b[39;00m\u001b[34;01m.\u001b[39;00m\u001b[34;01mbc_new\u001b[39;00m\u001b[38;5;250m \u001b[39m\u001b[38;5;28;01mimport\u001b[39;00m bcv2\n\u001b[32m     15\u001b[39m \u001b[38;5;28;01mfrom\u001b[39;00m\u001b[38;5;250m \u001b[39m\u001b[34;01matommover\u001b[39;00m\u001b[34;01m.\u001b[39;00m\u001b[34;01malgorithms\u001b[39;00m\u001b[34;01m.\u001b[39;00m\u001b[34;01msource\u001b[39;00m\u001b[34;01m.\u001b[39;00m\u001b[34;01mgeneralized_balance\u001b[39;00m\u001b[38;5;250m \u001b[39m\u001b[38;5;28;01mimport\u001b[39;00m generalized_balance\n\u001b[32m---> \u001b[39m\u001b[32m16\u001b[39m \u001b[38;5;28;01mfrom\u001b[39;00m\u001b[38;5;250m \u001b[39m\u001b[34;01matommover\u001b[39;00m\u001b[34;01m.\u001b[39;00m\u001b[34;01malgorithms\u001b[39;00m\u001b[34;01m.\u001b[39;00m\u001b[34;01msource\u001b[39;00m\u001b[34;01m.\u001b[39;00m\u001b[34;01mHungarian_works\u001b[39;00m\u001b[38;5;250m \u001b[39m\u001b[38;5;28;01mimport\u001b[39;00m parallel_Hungarian_algorithm_works, parallel_LBAP_algorithm_works, Hungarian_algorithm_works\n\u001b[32m     18\u001b[39m \u001b[38;5;66;03m##########################\u001b[39;00m\n\u001b[32m     19\u001b[39m \u001b[38;5;66;03m# Bernien Lab algorithms #\u001b[39;00m\n\u001b[32m     20\u001b[39m \u001b[38;5;66;03m##########################\u001b[39;00m\n\u001b[32m     21\u001b[39m \n\u001b[32m     22\u001b[39m \u001b[38;5;66;03m# Parallel Hungarian\u001b[39;00m\n\u001b[32m     23\u001b[39m \u001b[38;5;28;01mclass\u001b[39;00m\u001b[38;5;250m \u001b[39m\u001b[34;01mParallelHungarian\u001b[39;00m(Algorithm):\n",
      "\u001b[36mFile \u001b[39m\u001b[32md:\\AWG_related\\AWG_test_yuanzhe\\atommovr_yuanzhe\\atommover\\algorithms\\source\\Hungarian_works.py:12\u001b[39m\n\u001b[32m     10\u001b[39m \u001b[38;5;28;01mfrom\u001b[39;00m\u001b[38;5;250m \u001b[39m\u001b[34;01matommover\u001b[39;00m\u001b[34;01m.\u001b[39;00m\u001b[34;01mutils\u001b[39;00m\u001b[34;01m.\u001b[39;00m\u001b[34;01mmove_utils\u001b[39;00m\u001b[38;5;250m \u001b[39m\u001b[38;5;28;01mimport\u001b[39;00m Move, move_atoms, get_move_list_from_AOD_cmds\n\u001b[32m     11\u001b[39m \u001b[38;5;28;01mfrom\u001b[39;00m\u001b[38;5;250m \u001b[39m\u001b[34;01matommover\u001b[39;00m\u001b[34;01m.\u001b[39;00m\u001b[34;01malgorithms\u001b[39;00m\u001b[34;01m.\u001b[39;00m\u001b[34;01msource\u001b[39;00m\u001b[34;01m.\u001b[39;00m\u001b[34;01mejection\u001b[39;00m\u001b[38;5;250m \u001b[39m\u001b[38;5;28;01mimport\u001b[39;00m ejection\n\u001b[32m---> \u001b[39m\u001b[32m12\u001b[39m \u001b[38;5;28;01mfrom\u001b[39;00m\u001b[38;5;250m \u001b[39m\u001b[34;01matommover\u001b[39;00m\u001b[34;01m.\u001b[39;00m\u001b[34;01malgorithms\u001b[39;00m\u001b[34;01m.\u001b[39;00m\u001b[34;01msource\u001b[39;00m\u001b[34;01m.\u001b[39;00m\u001b[34;01mscaling_lower_bound\u001b[39;00m\u001b[38;5;250m \u001b[39m\u001b[38;5;28;01mimport\u001b[39;00m make_cost_matrix_square\n\u001b[32m     13\u001b[39m \u001b[38;5;28;01mfrom\u001b[39;00m\u001b[38;5;250m \u001b[39m\u001b[34;01matommover\u001b[39;00m\u001b[34;01m.\u001b[39;00m\u001b[34;01malgorithms\u001b[39;00m\u001b[34;01m.\u001b[39;00m\u001b[34;01msource\u001b[39;00m\u001b[34;01m.\u001b[39;00m\u001b[34;01mPPSU_weight_matching\u001b[39;00m\u001b[38;5;250m \u001b[39m\u001b[38;5;28;01mimport\u001b[39;00m bttl_threshold\n\u001b[32m     15\u001b[39m \u001b[38;5;28;01mdef\u001b[39;00m\u001b[38;5;250m \u001b[39m\u001b[34mparallel_LBAP_algorithm_works\u001b[39m(atom_arrays: np.ndarray, target_config: np.ndarray, do_ejection: \u001b[38;5;28mbool\u001b[39m = \u001b[38;5;28;01mFalse\u001b[39;00m, round_lim: \u001b[38;5;28mint\u001b[39m = \u001b[32m15\u001b[39m):\n\u001b[32m     16\u001b[39m     \u001b[38;5;66;03m# Initialize the variables\u001b[39;00m\n",
      "\u001b[36mFile \u001b[39m\u001b[32md:\\AWG_related\\AWG_test_yuanzhe\\atommovr_yuanzhe\\atommover\\algorithms\\source\\scaling_lower_bound.py:11\u001b[39m\n\u001b[32m      9\u001b[39m \u001b[38;5;28;01mfrom\u001b[39;00m\u001b[38;5;250m \u001b[39m\u001b[34;01matommover\u001b[39;00m\u001b[34;01m.\u001b[39;00m\u001b[34;01mutils\u001b[39;00m\u001b[34;01m.\u001b[39;00m\u001b[34;01manimation\u001b[39;00m\u001b[38;5;250m \u001b[39m\u001b[38;5;28;01mimport\u001b[39;00m *\n\u001b[32m     10\u001b[39m \u001b[38;5;28;01mfrom\u001b[39;00m\u001b[38;5;250m \u001b[39m\u001b[34;01matommover\u001b[39;00m\u001b[34;01m.\u001b[39;00m\u001b[34;01malgorithms\u001b[39;00m\u001b[34;01m.\u001b[39;00m\u001b[34;01msource\u001b[39;00m\u001b[34;01m.\u001b[39;00m\u001b[34;01mejection\u001b[39;00m\u001b[38;5;250m \u001b[39m\u001b[38;5;28;01mimport\u001b[39;00m *\n\u001b[32m---> \u001b[39m\u001b[32m11\u001b[39m \u001b[38;5;28;01mfrom\u001b[39;00m\u001b[38;5;250m \u001b[39m\u001b[34;01matommover\u001b[39;00m\u001b[34;01m.\u001b[39;00m\u001b[34;01malgorithms\u001b[39;00m\u001b[34;01m.\u001b[39;00m\u001b[34;01msource\u001b[39;00m\u001b[34;01m.\u001b[39;00m\u001b[34;01mPPSU_weight_matching\u001b[39;00m\u001b[38;5;250m \u001b[39m\u001b[38;5;28;01mimport\u001b[39;00m bttl_threshold\n\u001b[32m     13\u001b[39m \u001b[38;5;28;01mdef\u001b[39;00m\u001b[38;5;250m \u001b[39m\u001b[34mcalculate_LB\u001b[39m(atom_arrays: np.ndarray, target_config: np.ndarray, n_species: \u001b[38;5;28mint\u001b[39m=\u001b[32m1\u001b[39m):\n\u001b[32m     14\u001b[39m     mat_copy = copy.deepcopy(atom_arrays)\n",
      "\u001b[36mFile \u001b[39m\u001b[32md:\\AWG_related\\AWG_test_yuanzhe\\atommovr_yuanzhe\\atommover\\algorithms\\source\\PPSU_weight_matching.py:32\u001b[39m\n\u001b[32m     30\u001b[39m \u001b[38;5;28;01mexcept\u001b[39;00m \u001b[38;5;167;01mOSError\u001b[39;00m \u001b[38;5;28;01mas\u001b[39;00m e:\n\u001b[32m     31\u001b[39m     \u001b[38;5;28mprint\u001b[39m(\u001b[33mf\u001b[39m\u001b[33m\"\u001b[39m\u001b[33m[WARNING] Failed to load shared library at \u001b[39m\u001b[38;5;132;01m{\u001b[39;00mLIB_PATH\u001b[38;5;132;01m}\u001b[39;00m\u001b[33m: \u001b[39m\u001b[38;5;132;01m{\u001b[39;00me\u001b[38;5;132;01m}\u001b[39;00m\u001b[33m\"\u001b[39m)\n\u001b[32m---> \u001b[39m\u001b[32m32\u001b[39m     \u001b[43mbuild_shared_library\u001b[49m\u001b[43m(\u001b[49m\u001b[43m)\u001b[49m\n\u001b[32m     33\u001b[39m     lib = ctypes.CDLL(LIB_PATH)\n\u001b[32m     35\u001b[39m \u001b[38;5;66;03m# Platform-specific handling for accessing the standard C library\u001b[39;00m\n",
      "\u001b[36mFile \u001b[39m\u001b[32md:\\AWG_related\\AWG_test_yuanzhe\\atommovr_yuanzhe\\atommover\\algorithms\\source\\PPSU_weight_matching.py:25\u001b[39m, in \u001b[36mbuild_shared_library\u001b[39m\u001b[34m()\u001b[39m\n\u001b[32m     23\u001b[39m     \u001b[38;5;28;01mraise\u001b[39;00m \u001b[38;5;167;01mRuntimeError\u001b[39;00m(\u001b[33mf\u001b[39m\u001b[33m\"\u001b[39m\u001b[33msetupc.py not found at expected path: \u001b[39m\u001b[38;5;132;01m{\u001b[39;00mSETUPC_PATH\u001b[38;5;132;01m}\u001b[39;00m\u001b[33m\"\u001b[39m)\n\u001b[32m     24\u001b[39m \u001b[38;5;28mprint\u001b[39m(\u001b[33mf\u001b[39m\u001b[33m\"\u001b[39m\u001b[33m[INFO] Attempting to build shared library via \u001b[39m\u001b[38;5;132;01m{\u001b[39;00mSETUPC_PATH\u001b[38;5;132;01m}\u001b[39;00m\u001b[33m...\u001b[39m\u001b[33m\"\u001b[39m)\n\u001b[32m---> \u001b[39m\u001b[32m25\u001b[39m \u001b[43msubprocess\u001b[49m\u001b[43m.\u001b[49m\u001b[43mrun\u001b[49m\u001b[43m(\u001b[49m\u001b[43m[\u001b[49m\u001b[43msys\u001b[49m\u001b[43m.\u001b[49m\u001b[43mexecutable\u001b[49m\u001b[43m,\u001b[49m\u001b[43m \u001b[49m\u001b[43mSETUPC_PATH\u001b[49m\u001b[43m,\u001b[49m\u001b[43m \u001b[49m\u001b[33;43m\"\u001b[39;49m\u001b[33;43mbuild_ext\u001b[39;49m\u001b[33;43m\"\u001b[39;49m\u001b[43m]\u001b[49m\u001b[43m,\u001b[49m\u001b[43m \u001b[49m\u001b[43mcheck\u001b[49m\u001b[43m=\u001b[49m\u001b[38;5;28;43;01mTrue\u001b[39;49;00m\u001b[43m,\u001b[49m\u001b[43m \u001b[49m\u001b[43mcwd\u001b[49m\u001b[43m=\u001b[49m\u001b[43mPPSU_DIR\u001b[49m\u001b[43m)\u001b[49m\n\u001b[32m     26\u001b[39m \u001b[38;5;28mprint\u001b[39m(\u001b[33m\"\u001b[39m\u001b[33m[INFO] Build completed.\u001b[39m\u001b[33m\"\u001b[39m)\n",
      "\u001b[36mFile \u001b[39m\u001b[32mc:\\Users\\berni\\anaconda3\\envs\\AWG_yuanzhe\\Lib\\subprocess.py:577\u001b[39m, in \u001b[36mrun\u001b[39m\u001b[34m(input, capture_output, timeout, check, *popenargs, **kwargs)\u001b[39m\n\u001b[32m    575\u001b[39m     retcode = process.poll()\n\u001b[32m    576\u001b[39m     \u001b[38;5;28;01mif\u001b[39;00m check \u001b[38;5;129;01mand\u001b[39;00m retcode:\n\u001b[32m--> \u001b[39m\u001b[32m577\u001b[39m         \u001b[38;5;28;01mraise\u001b[39;00m CalledProcessError(retcode, process.args,\n\u001b[32m    578\u001b[39m                                  output=stdout, stderr=stderr)\n\u001b[32m    579\u001b[39m \u001b[38;5;28;01mreturn\u001b[39;00m CompletedProcess(process.args, retcode, stdout, stderr)\n",
      "\u001b[31mCalledProcessError\u001b[39m: Command '['c:\\\\Users\\\\berni\\\\anaconda3\\\\envs\\\\AWG_yuanzhe\\\\python.exe', 'd:\\\\AWG_related\\\\AWG_test_yuanzhe\\\\atommovr_yuanzhe\\\\PPSU2023\\\\setupc.py', 'build_ext']' returned non-zero exit status 1."
     ]
    }
   ],
   "source": [
    "from atommover.utils import *\n",
    "from atommover.algorithms import Hungarian\n",
    "\n",
    "# specifying parameters\n",
    "load_prob = 0.5 # float; the probability that an individual site will be loaded\n",
    "array_length = 5 # int; number of rows (or cols) of the square array\n",
    "\n",
    "params = PhysicalParams(loading_prob = load_prob)\n",
    "\n",
    "atom_array_1 = AtomArray([array_length, array_length], 1, params)\n",
    "\n",
    "# Load tweezers (this modifies atom_array_1.matrix in place)\n",
    "atom_array_1.load_tweezers()\n",
    "atom_array_1.generate_target()\n",
    "# Display the loaded configuration\n",
    "atom_array_1.image()\n",
    "atom_array_1.plot_target_config()\n",
    "algo1 = Hungarian()  \n",
    "\n",
    "move_sequence = algo1.get_moves(atom_array_1)   "
   ]
  }
 ],
 "metadata": {
  "kernelspec": {
   "display_name": "AWG_yuanzhe",
   "language": "python",
   "name": "python3"
  },
  "language_info": {
   "codemirror_mode": {
    "name": "ipython",
    "version": 3
   },
   "file_extension": ".py",
   "mimetype": "text/x-python",
   "name": "python",
   "nbconvert_exporter": "python",
   "pygments_lexer": "ipython3",
   "version": "3.13.7"
  }
 },
 "nbformat": 4,
 "nbformat_minor": 5
}
